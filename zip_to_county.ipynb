{
 "cells": [
  {
   "cell_type": "markdown",
   "metadata": {},
   "source": [
    "# Mapping Survey Respondents at the County Level\n",
    "\n",
    "In this jupyter notebook I use python libraries to complete a data cleaning project so that I can map the current number of responses in a dataset in QGIS 3.1."
   ]
  },
  {
   "cell_type": "code",
   "execution_count": 1,
   "metadata": {},
   "outputs": [],
   "source": [
    "# Import the relevant packages\n",
    "import pandas as pd\n",
    "\n",
    "# Import the sample data\n",
    "df_zip = pd.read_csv('sample_data.csv')"
   ]
  },
  {
   "cell_type": "markdown",
   "metadata": {},
   "source": [
    "Depending on the data that you have, I am strictly looking to map the number of responses in each county. This means I only want a column of zip codes and a column of counts. I suggest that if you have a large dataframe, to make a smaller one containing only these two variables."
   ]
  },
  {
   "cell_type": "code",
   "execution_count": 2,
   "metadata": {},
   "outputs": [
    {
     "name": "stdout",
     "output_type": "stream",
     "text": [
      "     zip  count\n",
      "0  99403      3\n",
      "1  99133      3\n",
      "2  99032      3\n"
     ]
    }
   ],
   "source": [
    "# Sum the number of responses per zip code\n",
    "df_zip = df_zip['zip'].value_counts().to_frame()\n",
    "\n",
    "# Move the columns out of the index\n",
    "df_zip = df_zip.reset_index()\n",
    "\n",
    "# Name the columns\n",
    "df_zip.columns = ['zip','count']\n",
    "\n",
    "print(df_zip.head(3))"
   ]
  },
  {
   "cell_type": "markdown",
   "metadata": {},
   "source": [
    "Now that we have the dataframe that we want, we will need to import another csv that contains the zip code to state-county FIPS codes that we want to lookup. The reason we do this is that the US Census shapefiles attributes include a state FIPS and a county FIPS. In QGIS I will create a new attribute that is the combination for the two.\n",
    "\n",
    "For example, King County (033) in Washington (53) is (53) + (033) = 53033. So let's begin first by importing the lookup table."
   ]
  },
  {
   "cell_type": "code",
   "execution_count": 3,
   "metadata": {},
   "outputs": [
    {
     "name": "stdout",
     "output_type": "stream",
     "text": [
      "     zip          county state  stcountyfips classfp\n",
      "0  36003  Autauga County    AL          1001      H1\n",
      "1  36006  Autauga County    AL          1001      H1\n",
      "2  36067  Autauga County    AL          1001      H1\n"
     ]
    }
   ],
   "source": [
    "# Import the lookup csv file\n",
    "df_lookup = pd.read_csv('lookup.csv')\n",
    "\n",
    "# Rename to lowercase (personal preference)\n",
    "df_lookup.columns = ['zip', 'county', 'state', 'stcountyfips', 'classfp'] \n",
    "\n",
    "print(df_lookup.head(3))"
   ]
  },
  {
   "cell_type": "markdown",
   "metadata": {},
   "source": [
    "Now that I have the two dataframes, all I need to do is merge the two based on some like condition. In this case, if the zip code from the survey responses dataframe (df_zip) matches a row in the lookup table (df_lookup), then I want to grab that row and add it to the survey responses dataframe."
   ]
  },
  {
   "cell_type": "code",
   "execution_count": 4,
   "metadata": {},
   "outputs": [
    {
     "name": "stdout",
     "output_type": "stream",
     "text": [
      "     zip  count           county state  stcountyfips classfp\n",
      "0  99403      3    Asotin County    WA         53003      H1\n",
      "1  99403      3  Garfield County    WA         53023      H1\n",
      "2  99403      3   Whitman County    WA         53075      H1\n"
     ]
    }
   ],
   "source": [
    "# Merge on an equal column name across both dataframes\n",
    "df_zip = df_zip.merge(df_lookup, on='zip')\n",
    "\n",
    "print(df_zip.head(3))"
   ]
  },
  {
   "cell_type": "markdown",
   "metadata": {},
   "source": [
    "This appended all the data from the lookup table to the zipcode data. We now have a csv file that we can export that we can preform a join on in QGIS. We will join on the stcountyfips column which we will also have to make in QGIS for the census shapefile attributes. The graduated symoblogy will simply be based on the count. The problem is, in the above form, multiple enteries exist for state-county combinations since there are more than one zip code for each county. If we import this into GIS, it won't know how to handle it. It needs a single observation for each state-county combination. To do this, we simply aggregate the number of counts by state-county combination."
   ]
  },
  {
   "cell_type": "code",
   "execution_count": 5,
   "metadata": {},
   "outputs": [
    {
     "name": "stdout",
     "output_type": "stream",
     "text": [
      "   stcountyfips  count\n",
      "0         53001     22\n",
      "1         53003      5\n",
      "2         53005     16\n"
     ]
    }
   ],
   "source": [
    "# Group by the state-county and aggregate the count column\n",
    "df_zip = df_zip.groupby(['stcountyfips'], as_index = False).agg({'count' : 'sum'}) \n",
    "\n",
    "print(df_zip.head(3))"
   ]
  },
  {
   "cell_type": "markdown",
   "metadata": {},
   "source": [
    "This is exactly what we need for GIS analysis. To test, lets see what the number of responses are for King County."
   ]
  },
  {
   "cell_type": "code",
   "execution_count": 6,
   "metadata": {},
   "outputs": [
    {
     "name": "stdout",
     "output_type": "stream",
     "text": [
      "There are 134 responses in King County, WA\n"
     ]
    }
   ],
   "source": [
    "print(\"There are \" + df_zip.loc[df_zip['stcountyfips'] == 53033, 'count'].values[0].astype(str) + \" responses in King County, WA\")"
   ]
  },
  {
   "cell_type": "code",
   "execution_count": null,
   "metadata": {},
   "outputs": [],
   "source": [
    "# Export the data into a csv that can be loaded into GIS\n",
    "df_zip.to_csv('county_data.csv')"
   ]
  },
  {
   "cell_type": "markdown",
   "metadata": {},
   "source": [
    "# Result\n",
    "\n",
    "The following map is the outcome after using QGIS 3.1 to map the data. I loaded in the Census shapefiles for counties and states and in the counties attribute table, used the field calculator to create a column that is the state-county FIPS just like I made previously.\n",
    "\n",
    "The resulting map is giberish since the sample data was randomly generated, but can be found in the Github repository as sample_map.pdf."
   ]
  }
 ],
 "metadata": {
  "kernelspec": {
   "display_name": "Python 3",
   "language": "python",
   "name": "python3"
  },
  "language_info": {
   "codemirror_mode": {
    "name": "ipython",
    "version": 3
   },
   "file_extension": ".py",
   "mimetype": "text/x-python",
   "name": "python",
   "nbconvert_exporter": "python",
   "pygments_lexer": "ipython3",
   "version": "3.8.5"
  }
 },
 "nbformat": 4,
 "nbformat_minor": 4
}
